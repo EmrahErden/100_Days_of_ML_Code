{
 "cells": [
  {
   "cell_type": "markdown",
   "metadata": {},
   "source": [
    "# MNIST CNN Application (Convolutional Neural Network)\n",
    "\n",
    "## most of the code taken from the course: Complete Guide to TensorFlow for Deep Learning with Python. this is a more parametric aproach\n",
    "\n",
    "##### first get the MNIST data in the csv format (taken from https://pjreddie.com/projects/mnist-in-csv/ ). But this file has problems with the column names, so you need to edit the file in excel (manualy change column names to : label, pix0, pix1, ... , pix678). Please note that, the conversion to csv code in the website is \"not\" working\n",
    "\n",
    "##### Info about steps vs num_epochs in tensorflow, https://stackoverflow.com/questions/42816124/steps-vs-num-epochs-in-tensorflow-getting-started-tutorial"
   ]
  },
  {
   "cell_type": "code",
   "execution_count": 1,
   "metadata": {
    "collapsed": true
   },
   "outputs": [],
   "source": [
    "import tensorflow as tf\n",
    "import pandas as pd\n",
    "import matplotlib.pyplot as plt\n",
    "import numpy as np\n",
    "%matplotlib inline\n",
    "mnist_train = pd.read_csv('mnist_train_modified_in_excel.csv') # reading the panda csv train & test files\n",
    "mnist_test = pd.read_csv('mnist_test_modified_in_excel.csv')"
   ]
  },
  {
   "cell_type": "code",
   "execution_count": 2,
   "metadata": {
    "collapsed": true
   },
   "outputs": [],
   "source": [
    "NUM_LABELS = 10 # 10 possible labels for this data set / 0,1,2,3....,8,9\n",
    "IMAGE_HEIGHT = 28\n",
    "IMAGE_WIDTH = 28\n",
    "NUM_IMAGE_CHANNELS = 1 # Images of this data set are in grayscale (8 bit) single channel\n",
    "\n",
    "FILTER_HEIGHT = 5\n",
    "FILTER_WIDTH = 5\n",
    "NUM_FILTERS_FIRST_LAYER = 32 # 32 filters at the first conv layer\n",
    "NUM_FILTERS_SECOND_LAYER = 64 # 32 filters at the first conv layer\n",
    "\n",
    "NUM_TRAINING_STEPS = 5000\n",
    "BATCH_SIZE=30 # size of the batches to be fed during training\n",
    "TEST_BATCH_SIZE=1000 # size of the batches to be fed during accuracy calculation\n",
    "NORMAL_LAYER_SIZE=100 # size of the 1st normal layer\n",
    "LEARNING_RATE=0.001\n",
    "HOLD_PROB_TRAINING=0.5 # hold probability during training"
   ]
  },
  {
   "cell_type": "code",
   "execution_count": 3,
   "metadata": {},
   "outputs": [
    {
     "data": {
      "text/html": [
       "<div>\n",
       "<style>\n",
       "    .dataframe thead tr:only-child th {\n",
       "        text-align: right;\n",
       "    }\n",
       "\n",
       "    .dataframe thead th {\n",
       "        text-align: left;\n",
       "    }\n",
       "\n",
       "    .dataframe tbody tr th {\n",
       "        vertical-align: top;\n",
       "    }\n",
       "</style>\n",
       "<table border=\"1\" class=\"dataframe\">\n",
       "  <thead>\n",
       "    <tr style=\"text-align: right;\">\n",
       "      <th></th>\n",
       "      <th>label</th>\n",
       "      <th>pix0</th>\n",
       "      <th>pix1</th>\n",
       "      <th>pix2</th>\n",
       "      <th>pix3</th>\n",
       "      <th>pix4</th>\n",
       "      <th>pix5</th>\n",
       "      <th>pix6</th>\n",
       "      <th>pix7</th>\n",
       "      <th>pix8</th>\n",
       "      <th>...</th>\n",
       "      <th>pix774</th>\n",
       "      <th>pix775</th>\n",
       "      <th>pix776</th>\n",
       "      <th>pix777</th>\n",
       "      <th>pix778</th>\n",
       "      <th>pix779</th>\n",
       "      <th>pix780</th>\n",
       "      <th>pix781</th>\n",
       "      <th>pix782</th>\n",
       "      <th>pix783</th>\n",
       "    </tr>\n",
       "  </thead>\n",
       "  <tbody>\n",
       "    <tr>\n",
       "      <th>0</th>\n",
       "      <td>7</td>\n",
       "      <td>0</td>\n",
       "      <td>0</td>\n",
       "      <td>0</td>\n",
       "      <td>0</td>\n",
       "      <td>0</td>\n",
       "      <td>0</td>\n",
       "      <td>0</td>\n",
       "      <td>0</td>\n",
       "      <td>0</td>\n",
       "      <td>...</td>\n",
       "      <td>0</td>\n",
       "      <td>0</td>\n",
       "      <td>0</td>\n",
       "      <td>0</td>\n",
       "      <td>0</td>\n",
       "      <td>0</td>\n",
       "      <td>0</td>\n",
       "      <td>0</td>\n",
       "      <td>0</td>\n",
       "      <td>0</td>\n",
       "    </tr>\n",
       "    <tr>\n",
       "      <th>1</th>\n",
       "      <td>2</td>\n",
       "      <td>0</td>\n",
       "      <td>0</td>\n",
       "      <td>0</td>\n",
       "      <td>0</td>\n",
       "      <td>0</td>\n",
       "      <td>0</td>\n",
       "      <td>0</td>\n",
       "      <td>0</td>\n",
       "      <td>0</td>\n",
       "      <td>...</td>\n",
       "      <td>0</td>\n",
       "      <td>0</td>\n",
       "      <td>0</td>\n",
       "      <td>0</td>\n",
       "      <td>0</td>\n",
       "      <td>0</td>\n",
       "      <td>0</td>\n",
       "      <td>0</td>\n",
       "      <td>0</td>\n",
       "      <td>0</td>\n",
       "    </tr>\n",
       "    <tr>\n",
       "      <th>2</th>\n",
       "      <td>1</td>\n",
       "      <td>0</td>\n",
       "      <td>0</td>\n",
       "      <td>0</td>\n",
       "      <td>0</td>\n",
       "      <td>0</td>\n",
       "      <td>0</td>\n",
       "      <td>0</td>\n",
       "      <td>0</td>\n",
       "      <td>0</td>\n",
       "      <td>...</td>\n",
       "      <td>0</td>\n",
       "      <td>0</td>\n",
       "      <td>0</td>\n",
       "      <td>0</td>\n",
       "      <td>0</td>\n",
       "      <td>0</td>\n",
       "      <td>0</td>\n",
       "      <td>0</td>\n",
       "      <td>0</td>\n",
       "      <td>0</td>\n",
       "    </tr>\n",
       "    <tr>\n",
       "      <th>3</th>\n",
       "      <td>0</td>\n",
       "      <td>0</td>\n",
       "      <td>0</td>\n",
       "      <td>0</td>\n",
       "      <td>0</td>\n",
       "      <td>0</td>\n",
       "      <td>0</td>\n",
       "      <td>0</td>\n",
       "      <td>0</td>\n",
       "      <td>0</td>\n",
       "      <td>...</td>\n",
       "      <td>0</td>\n",
       "      <td>0</td>\n",
       "      <td>0</td>\n",
       "      <td>0</td>\n",
       "      <td>0</td>\n",
       "      <td>0</td>\n",
       "      <td>0</td>\n",
       "      <td>0</td>\n",
       "      <td>0</td>\n",
       "      <td>0</td>\n",
       "    </tr>\n",
       "    <tr>\n",
       "      <th>4</th>\n",
       "      <td>4</td>\n",
       "      <td>0</td>\n",
       "      <td>0</td>\n",
       "      <td>0</td>\n",
       "      <td>0</td>\n",
       "      <td>0</td>\n",
       "      <td>0</td>\n",
       "      <td>0</td>\n",
       "      <td>0</td>\n",
       "      <td>0</td>\n",
       "      <td>...</td>\n",
       "      <td>0</td>\n",
       "      <td>0</td>\n",
       "      <td>0</td>\n",
       "      <td>0</td>\n",
       "      <td>0</td>\n",
       "      <td>0</td>\n",
       "      <td>0</td>\n",
       "      <td>0</td>\n",
       "      <td>0</td>\n",
       "      <td>0</td>\n",
       "    </tr>\n",
       "  </tbody>\n",
       "</table>\n",
       "<p>5 rows × 785 columns</p>\n",
       "</div>"
      ],
      "text/plain": [
       "   label  pix0  pix1  pix2  pix3  pix4  pix5  pix6  pix7  pix8   ...    \\\n",
       "0      7     0     0     0     0     0     0     0     0     0   ...     \n",
       "1      2     0     0     0     0     0     0     0     0     0   ...     \n",
       "2      1     0     0     0     0     0     0     0     0     0   ...     \n",
       "3      0     0     0     0     0     0     0     0     0     0   ...     \n",
       "4      4     0     0     0     0     0     0     0     0     0   ...     \n",
       "\n",
       "   pix774  pix775  pix776  pix777  pix778  pix779  pix780  pix781  pix782  \\\n",
       "0       0       0       0       0       0       0       0       0       0   \n",
       "1       0       0       0       0       0       0       0       0       0   \n",
       "2       0       0       0       0       0       0       0       0       0   \n",
       "3       0       0       0       0       0       0       0       0       0   \n",
       "4       0       0       0       0       0       0       0       0       0   \n",
       "\n",
       "   pix783  \n",
       "0       0  \n",
       "1       0  \n",
       "2       0  \n",
       "3       0  \n",
       "4       0  \n",
       "\n",
       "[5 rows x 785 columns]"
      ]
     },
     "execution_count": 3,
     "metadata": {},
     "output_type": "execute_result"
    }
   ],
   "source": [
    "mnist_test.head() # checking the head of the test data"
   ]
  },
  {
   "cell_type": "code",
   "execution_count": 4,
   "metadata": {},
   "outputs": [
    {
     "data": {
      "text/html": [
       "<div>\n",
       "<style>\n",
       "    .dataframe thead tr:only-child th {\n",
       "        text-align: right;\n",
       "    }\n",
       "\n",
       "    .dataframe thead th {\n",
       "        text-align: left;\n",
       "    }\n",
       "\n",
       "    .dataframe tbody tr th {\n",
       "        vertical-align: top;\n",
       "    }\n",
       "</style>\n",
       "<table border=\"1\" class=\"dataframe\">\n",
       "  <thead>\n",
       "    <tr style=\"text-align: right;\">\n",
       "      <th></th>\n",
       "      <th>label</th>\n",
       "      <th>pix0</th>\n",
       "      <th>pix1</th>\n",
       "      <th>pix2</th>\n",
       "      <th>pix3</th>\n",
       "      <th>pix4</th>\n",
       "      <th>pix5</th>\n",
       "      <th>pix6</th>\n",
       "      <th>pix7</th>\n",
       "      <th>pix8</th>\n",
       "      <th>...</th>\n",
       "      <th>pix774</th>\n",
       "      <th>pix775</th>\n",
       "      <th>pix776</th>\n",
       "      <th>pix777</th>\n",
       "      <th>pix778</th>\n",
       "      <th>pix779</th>\n",
       "      <th>pix780</th>\n",
       "      <th>pix781</th>\n",
       "      <th>pix782</th>\n",
       "      <th>pix783</th>\n",
       "    </tr>\n",
       "  </thead>\n",
       "  <tbody>\n",
       "    <tr>\n",
       "      <th>0</th>\n",
       "      <td>5</td>\n",
       "      <td>0</td>\n",
       "      <td>0</td>\n",
       "      <td>0</td>\n",
       "      <td>0</td>\n",
       "      <td>0</td>\n",
       "      <td>0</td>\n",
       "      <td>0</td>\n",
       "      <td>0</td>\n",
       "      <td>0</td>\n",
       "      <td>...</td>\n",
       "      <td>0</td>\n",
       "      <td>0</td>\n",
       "      <td>0</td>\n",
       "      <td>0</td>\n",
       "      <td>0</td>\n",
       "      <td>0</td>\n",
       "      <td>0</td>\n",
       "      <td>0</td>\n",
       "      <td>0</td>\n",
       "      <td>0</td>\n",
       "    </tr>\n",
       "    <tr>\n",
       "      <th>1</th>\n",
       "      <td>0</td>\n",
       "      <td>0</td>\n",
       "      <td>0</td>\n",
       "      <td>0</td>\n",
       "      <td>0</td>\n",
       "      <td>0</td>\n",
       "      <td>0</td>\n",
       "      <td>0</td>\n",
       "      <td>0</td>\n",
       "      <td>0</td>\n",
       "      <td>...</td>\n",
       "      <td>0</td>\n",
       "      <td>0</td>\n",
       "      <td>0</td>\n",
       "      <td>0</td>\n",
       "      <td>0</td>\n",
       "      <td>0</td>\n",
       "      <td>0</td>\n",
       "      <td>0</td>\n",
       "      <td>0</td>\n",
       "      <td>0</td>\n",
       "    </tr>\n",
       "    <tr>\n",
       "      <th>2</th>\n",
       "      <td>4</td>\n",
       "      <td>0</td>\n",
       "      <td>0</td>\n",
       "      <td>0</td>\n",
       "      <td>0</td>\n",
       "      <td>0</td>\n",
       "      <td>0</td>\n",
       "      <td>0</td>\n",
       "      <td>0</td>\n",
       "      <td>0</td>\n",
       "      <td>...</td>\n",
       "      <td>0</td>\n",
       "      <td>0</td>\n",
       "      <td>0</td>\n",
       "      <td>0</td>\n",
       "      <td>0</td>\n",
       "      <td>0</td>\n",
       "      <td>0</td>\n",
       "      <td>0</td>\n",
       "      <td>0</td>\n",
       "      <td>0</td>\n",
       "    </tr>\n",
       "    <tr>\n",
       "      <th>3</th>\n",
       "      <td>1</td>\n",
       "      <td>0</td>\n",
       "      <td>0</td>\n",
       "      <td>0</td>\n",
       "      <td>0</td>\n",
       "      <td>0</td>\n",
       "      <td>0</td>\n",
       "      <td>0</td>\n",
       "      <td>0</td>\n",
       "      <td>0</td>\n",
       "      <td>...</td>\n",
       "      <td>0</td>\n",
       "      <td>0</td>\n",
       "      <td>0</td>\n",
       "      <td>0</td>\n",
       "      <td>0</td>\n",
       "      <td>0</td>\n",
       "      <td>0</td>\n",
       "      <td>0</td>\n",
       "      <td>0</td>\n",
       "      <td>0</td>\n",
       "    </tr>\n",
       "    <tr>\n",
       "      <th>4</th>\n",
       "      <td>9</td>\n",
       "      <td>0</td>\n",
       "      <td>0</td>\n",
       "      <td>0</td>\n",
       "      <td>0</td>\n",
       "      <td>0</td>\n",
       "      <td>0</td>\n",
       "      <td>0</td>\n",
       "      <td>0</td>\n",
       "      <td>0</td>\n",
       "      <td>...</td>\n",
       "      <td>0</td>\n",
       "      <td>0</td>\n",
       "      <td>0</td>\n",
       "      <td>0</td>\n",
       "      <td>0</td>\n",
       "      <td>0</td>\n",
       "      <td>0</td>\n",
       "      <td>0</td>\n",
       "      <td>0</td>\n",
       "      <td>0</td>\n",
       "    </tr>\n",
       "  </tbody>\n",
       "</table>\n",
       "<p>5 rows × 785 columns</p>\n",
       "</div>"
      ],
      "text/plain": [
       "   label  pix0  pix1  pix2  pix3  pix4  pix5  pix6  pix7  pix8   ...    \\\n",
       "0      5     0     0     0     0     0     0     0     0     0   ...     \n",
       "1      0     0     0     0     0     0     0     0     0     0   ...     \n",
       "2      4     0     0     0     0     0     0     0     0     0   ...     \n",
       "3      1     0     0     0     0     0     0     0     0     0   ...     \n",
       "4      9     0     0     0     0     0     0     0     0     0   ...     \n",
       "\n",
       "   pix774  pix775  pix776  pix777  pix778  pix779  pix780  pix781  pix782  \\\n",
       "0       0       0       0       0       0       0       0       0       0   \n",
       "1       0       0       0       0       0       0       0       0       0   \n",
       "2       0       0       0       0       0       0       0       0       0   \n",
       "3       0       0       0       0       0       0       0       0       0   \n",
       "4       0       0       0       0       0       0       0       0       0   \n",
       "\n",
       "   pix783  \n",
       "0       0  \n",
       "1       0  \n",
       "2       0  \n",
       "3       0  \n",
       "4       0  \n",
       "\n",
       "[5 rows x 785 columns]"
      ]
     },
     "execution_count": 4,
     "metadata": {},
     "output_type": "execute_result"
    }
   ],
   "source": [
    "mnist_train.head() # checking the training data"
   ]
  },
  {
   "cell_type": "code",
   "execution_count": 5,
   "metadata": {},
   "outputs": [
    {
     "data": {
      "text/plain": [
       "0.13768007202881152"
      ]
     },
     "execution_count": 5,
     "metadata": {},
     "output_type": "execute_result"
    }
   ],
   "source": [
    "x_train=mnist_train.drop('label', axis=1)\n",
    "x_train = x_train.apply(lambda x: x/255.) # normalizing the 8 bit pixel values\n",
    "x_train.iloc[0].mean() #checking the mean value in row 1"
   ]
  },
  {
   "cell_type": "code",
   "execution_count": 6,
   "metadata": {},
   "outputs": [
    {
     "data": {
      "text/plain": [
       "0.092306922769107652"
      ]
     },
     "execution_count": 6,
     "metadata": {},
     "output_type": "execute_result"
    }
   ],
   "source": [
    "x_test=mnist_test.drop('label', axis=1)\n",
    "x_test = x_test.apply(lambda x: x/255.) # normalizing the 8 bit pixel values\n",
    "x_test.iloc[0].mean() #checking the mean value in row 1"
   ]
  },
  {
   "cell_type": "code",
   "execution_count": 7,
   "metadata": {
    "collapsed": true
   },
   "outputs": [],
   "source": [
    "y_train_int=mnist_train['label']\n",
    "y_test_int=mnist_test['label']\n",
    "# y_test and y_train is not one hot encoded yet"
   ]
  },
  {
   "cell_type": "markdown",
   "metadata": {},
   "source": [
    "#### checking a random image"
   ]
  },
  {
   "cell_type": "code",
   "execution_count": 8,
   "metadata": {
    "scrolled": true
   },
   "outputs": [
    {
     "name": "stdout",
     "output_type": "stream",
     "text": [
      "a randomly selected image from training data with value of : 9\n"
     ]
    },
    {
     "data": {
      "image/png": "[encoded data removed]",
      "text/plain": [
       "<matplotlib.figure.Figure at 0x7fe19dd15a90>"
      ]
     },
     "metadata": {},
     "output_type": "display_data"
    }
   ],
   "source": [
    "random_checker=np.random.randint(100, size=1)\n",
    "single_image=x_train.iloc[random_checker].values.reshape(IMAGE_HEIGHT,IMAGE_WIDTH)\n",
    "plt.imshow(single_image, cmap=\"gist_gray\")\n",
    "print(\"a randomly selected image from training data with value of :\", end= \" \")\n",
    "image_prop = y_train_int.values[random_checker]\n",
    "print(image_prop[0])"
   ]
  },
  {
   "cell_type": "markdown",
   "metadata": {
    "collapsed": true
   },
   "source": [
    "#### one hot encoding on y data"
   ]
  },
  {
   "cell_type": "code",
   "execution_count": 9,
   "metadata": {},
   "outputs": [
    {
     "data": {
      "text/html": [
       "<div>\n",
       "<style>\n",
       "    .dataframe thead tr:only-child th {\n",
       "        text-align: right;\n",
       "    }\n",
       "\n",
       "    .dataframe thead th {\n",
       "        text-align: left;\n",
       "    }\n",
       "\n",
       "    .dataframe tbody tr th {\n",
       "        vertical-align: top;\n",
       "    }\n",
       "</style>\n",
       "<table border=\"1\" class=\"dataframe\">\n",
       "  <thead>\n",
       "    <tr style=\"text-align: right;\">\n",
       "      <th></th>\n",
       "      <th>0</th>\n",
       "      <th>1</th>\n",
       "      <th>2</th>\n",
       "      <th>3</th>\n",
       "      <th>4</th>\n",
       "      <th>5</th>\n",
       "      <th>6</th>\n",
       "      <th>7</th>\n",
       "      <th>8</th>\n",
       "      <th>9</th>\n",
       "    </tr>\n",
       "  </thead>\n",
       "  <tbody>\n",
       "    <tr>\n",
       "      <th>0</th>\n",
       "      <td>0</td>\n",
       "      <td>0</td>\n",
       "      <td>0</td>\n",
       "      <td>0</td>\n",
       "      <td>0</td>\n",
       "      <td>1</td>\n",
       "      <td>0</td>\n",
       "      <td>0</td>\n",
       "      <td>0</td>\n",
       "      <td>0</td>\n",
       "    </tr>\n",
       "    <tr>\n",
       "      <th>1</th>\n",
       "      <td>1</td>\n",
       "      <td>0</td>\n",
       "      <td>0</td>\n",
       "      <td>0</td>\n",
       "      <td>0</td>\n",
       "      <td>0</td>\n",
       "      <td>0</td>\n",
       "      <td>0</td>\n",
       "      <td>0</td>\n",
       "      <td>0</td>\n",
       "    </tr>\n",
       "    <tr>\n",
       "      <th>2</th>\n",
       "      <td>0</td>\n",
       "      <td>0</td>\n",
       "      <td>0</td>\n",
       "      <td>0</td>\n",
       "      <td>1</td>\n",
       "      <td>0</td>\n",
       "      <td>0</td>\n",
       "      <td>0</td>\n",
       "      <td>0</td>\n",
       "      <td>0</td>\n",
       "    </tr>\n",
       "    <tr>\n",
       "      <th>3</th>\n",
       "      <td>0</td>\n",
       "      <td>1</td>\n",
       "      <td>0</td>\n",
       "      <td>0</td>\n",
       "      <td>0</td>\n",
       "      <td>0</td>\n",
       "      <td>0</td>\n",
       "      <td>0</td>\n",
       "      <td>0</td>\n",
       "      <td>0</td>\n",
       "    </tr>\n",
       "    <tr>\n",
       "      <th>4</th>\n",
       "      <td>0</td>\n",
       "      <td>0</td>\n",
       "      <td>0</td>\n",
       "      <td>0</td>\n",
       "      <td>0</td>\n",
       "      <td>0</td>\n",
       "      <td>0</td>\n",
       "      <td>0</td>\n",
       "      <td>0</td>\n",
       "      <td>1</td>\n",
       "    </tr>\n",
       "  </tbody>\n",
       "</table>\n",
       "</div>"
      ],
      "text/plain": [
       "   0  1  2  3  4  5  6  7  8  9\n",
       "0  0  0  0  0  0  1  0  0  0  0\n",
       "1  1  0  0  0  0  0  0  0  0  0\n",
       "2  0  0  0  0  1  0  0  0  0  0\n",
       "3  0  1  0  0  0  0  0  0  0  0\n",
       "4  0  0  0  0  0  0  0  0  0  1"
      ]
     },
     "execution_count": 9,
     "metadata": {},
     "output_type": "execute_result"
    }
   ],
   "source": [
    "y_train=pd.get_dummies(y_train_int)\n",
    "y_test=pd.get_dummies(y_test_int)\n",
    "y_train.head()\n",
    "# now x_train, x_test, y_train, y_test are all ready"
   ]
  },
  {
   "cell_type": "code",
   "execution_count": 10,
   "metadata": {
    "collapsed": true
   },
   "outputs": [],
   "source": [
    "# HELPER FUNCTIONS"
   ]
  },
  {
   "cell_type": "code",
   "execution_count": 11,
   "metadata": {
    "collapsed": true
   },
   "outputs": [],
   "source": [
    "# INIT WEIGHTS"
   ]
  },
  {
   "cell_type": "code",
   "execution_count": 12,
   "metadata": {
    "collapsed": true
   },
   "outputs": [],
   "source": [
    "def init_weights(shape):\n",
    "    init_random_dist = tf.truncated_normal(shape, stddev=0.1)\n",
    "    return tf.Variable(init_random_dist)"
   ]
  },
  {
   "cell_type": "code",
   "execution_count": 13,
   "metadata": {
    "collapsed": true
   },
   "outputs": [],
   "source": [
    "def init_bias(shape):\n",
    "    init_bias_vals = tf.constant(0.1, shape=shape)\n",
    "    return tf.Variable(init_bias_vals)"
   ]
  },
  {
   "cell_type": "code",
   "execution_count": 14,
   "metadata": {
    "collapsed": true
   },
   "outputs": [],
   "source": [
    "# CONV2D"
   ]
  },
  {
   "cell_type": "code",
   "execution_count": 15,
   "metadata": {
    "collapsed": true
   },
   "outputs": [],
   "source": [
    "def conv2d(x,W):\n",
    "    # x ---> [batch, H, W, Channels]\n",
    "    # W ---> [filter H, filter W, Channels IN, Channels Out]\n",
    "    return tf.nn.conv2d(x,W,strides=[1,1,1,1], padding=\"SAME\")"
   ]
  },
  {
   "cell_type": "code",
   "execution_count": 16,
   "metadata": {
    "collapsed": true
   },
   "outputs": [],
   "source": [
    "# POOLING"
   ]
  },
  {
   "cell_type": "code",
   "execution_count": 17,
   "metadata": {
    "collapsed": true
   },
   "outputs": [],
   "source": [
    "def max_pool_2by2(x):\n",
    "    return tf.nn.max_pool(x, ksize=[1,2,2,1], strides=[1,2,2,1], padding=\"SAME\")"
   ]
  },
  {
   "cell_type": "code",
   "execution_count": 18,
   "metadata": {
    "collapsed": true
   },
   "outputs": [],
   "source": [
    "# CONVOLUTIONAL LAYER"
   ]
  },
  {
   "cell_type": "code",
   "execution_count": 19,
   "metadata": {
    "collapsed": true
   },
   "outputs": [],
   "source": [
    "def convolutional_layer(input_x, shape):  \n",
    "    W=init_weights(shape)\n",
    "    b=init_bias([shape[3]])\n",
    "    return tf.nn.relu(conv2d(input_x,W)+b)"
   ]
  },
  {
   "cell_type": "code",
   "execution_count": 20,
   "metadata": {
    "collapsed": true
   },
   "outputs": [],
   "source": [
    "# FULLY CONNECTED NORMAL LAYER"
   ]
  },
  {
   "cell_type": "code",
   "execution_count": 21,
   "metadata": {
    "collapsed": true
   },
   "outputs": [],
   "source": [
    "def normal_full_layer(input_layer,size):\n",
    "    input_size=int(input_layer.get_shape()[1])\n",
    "    W=init_weights([input_size,size])\n",
    "    b=init_bias([size])\n",
    "    return tf.matmul(input_layer,W)+b"
   ]
  },
  {
   "cell_type": "code",
   "execution_count": 22,
   "metadata": {
    "collapsed": true
   },
   "outputs": [],
   "source": [
    "# PLACEHOLDERS"
   ]
  },
  {
   "cell_type": "code",
   "execution_count": 23,
   "metadata": {
    "collapsed": true
   },
   "outputs": [],
   "source": [
    "x=tf.placeholder(tf.float32, shape=[None,IMAGE_HEIGHT*IMAGE_HEIGHT*NUM_IMAGE_CHANNELS])"
   ]
  },
  {
   "cell_type": "code",
   "execution_count": 24,
   "metadata": {
    "collapsed": true
   },
   "outputs": [],
   "source": [
    "y_true=tf.placeholder(tf.float32, shape=[None,NUM_LABELS])"
   ]
  },
  {
   "cell_type": "code",
   "execution_count": 25,
   "metadata": {
    "collapsed": true
   },
   "outputs": [],
   "source": [
    "# LAYERS"
   ]
  },
  {
   "cell_type": "code",
   "execution_count": 26,
   "metadata": {
    "collapsed": true
   },
   "outputs": [],
   "source": [
    "x_image=tf.reshape(x,[-1,IMAGE_HEIGHT,IMAGE_WIDTH,NUM_IMAGE_CHANNELS])"
   ]
  },
  {
   "cell_type": "code",
   "execution_count": 27,
   "metadata": {
    "collapsed": true
   },
   "outputs": [],
   "source": [
    "convo_1 = convolutional_layer(x_image, shape=[FILTER_HEIGHT,FILTER_WIDTH,NUM_IMAGE_CHANNELS,NUM_FILTERS_FIRST_LAYER])"
   ]
  },
  {
   "cell_type": "code",
   "execution_count": 28,
   "metadata": {
    "collapsed": true
   },
   "outputs": [],
   "source": [
    "convo_1_pooling = max_pool_2by2(convo_1)"
   ]
  },
  {
   "cell_type": "code",
   "execution_count": 29,
   "metadata": {
    "collapsed": true
   },
   "outputs": [],
   "source": [
    "convo_2 = convolutional_layer(convo_1_pooling, shape=[FILTER_HEIGHT,FILTER_WIDTH,NUM_FILTERS_FIRST_LAYER,NUM_FILTERS_SECOND_LAYER])"
   ]
  },
  {
   "cell_type": "code",
   "execution_count": 30,
   "metadata": {
    "collapsed": true
   },
   "outputs": [],
   "source": [
    "convo_2_pooling = max_pool_2by2(convo_2)"
   ]
  },
  {
   "cell_type": "code",
   "execution_count": 31,
   "metadata": {},
   "outputs": [],
   "source": [
    "convo_2_flat = tf.reshape(convo_2_pooling,shape=[-1,int((IMAGE_HEIGHT/4.)*(IMAGE_WIDTH/4.)*NUM_FILTERS_SECOND_LAYER)])"
   ]
  },
  {
   "cell_type": "code",
   "execution_count": 32,
   "metadata": {},
   "outputs": [],
   "source": [
    "normal_layer_1 = tf.nn.relu(normal_full_layer(convo_2_flat, NORMAL_LAYER_SIZE))"
   ]
  },
  {
   "cell_type": "code",
   "execution_count": 33,
   "metadata": {
    "collapsed": true
   },
   "outputs": [],
   "source": [
    "# DROP OUT"
   ]
  },
  {
   "cell_type": "code",
   "execution_count": 34,
   "metadata": {
    "collapsed": true
   },
   "outputs": [],
   "source": [
    "hold_prob = tf.placeholder(tf.float32)\n",
    "normal_layer_1_dropout = tf.nn.dropout(normal_layer_1, keep_prob=hold_prob)"
   ]
  },
  {
   "cell_type": "code",
   "execution_count": 35,
   "metadata": {
    "collapsed": true
   },
   "outputs": [],
   "source": [
    "y_pred = normal_full_layer(normal_layer_1_dropout,NUM_LABELS)"
   ]
  },
  {
   "cell_type": "code",
   "execution_count": 36,
   "metadata": {
    "collapsed": true
   },
   "outputs": [],
   "source": [
    "# LOSS FUNCTION"
   ]
  },
  {
   "cell_type": "code",
   "execution_count": 37,
   "metadata": {
    "collapsed": true
   },
   "outputs": [],
   "source": [
    "cross_entrophy = tf.reduce_mean(tf.nn.softmax_cross_entropy_with_logits(labels=y_true, logits=y_pred))"
   ]
  },
  {
   "cell_type": "code",
   "execution_count": 38,
   "metadata": {
    "collapsed": true
   },
   "outputs": [],
   "source": [
    "# OPTIMIZER"
   ]
  },
  {
   "cell_type": "code",
   "execution_count": 39,
   "metadata": {
    "collapsed": true
   },
   "outputs": [],
   "source": [
    "optimizer= tf.train.AdamOptimizer(learning_rate=LEARNING_RATE)"
   ]
  },
  {
   "cell_type": "code",
   "execution_count": 40,
   "metadata": {
    "collapsed": true
   },
   "outputs": [],
   "source": [
    "train = optimizer.minimize(cross_entrophy)"
   ]
  },
  {
   "cell_type": "code",
   "execution_count": 41,
   "metadata": {
    "collapsed": true
   },
   "outputs": [],
   "source": [
    "init = tf.global_variables_initializer()"
   ]
  },
  {
   "cell_type": "code",
   "execution_count": 42,
   "metadata": {
    "collapsed": true
   },
   "outputs": [],
   "source": [
    "matches = tf.equal(tf.argmax(y_pred,1), tf.argmax(y_true,1))\n",
    "acc = tf.reduce_mean(tf.cast(matches,tf.float32))"
   ]
  },
  {
   "cell_type": "code",
   "execution_count": 44,
   "metadata": {},
   "outputs": [
    {
     "name": "stdout",
     "output_type": "stream",
     "text": [
      "ON STEP:  0\n",
      "ACCURACY ON TEST DATA:  0.169\n",
      "\n",
      "\n",
      "ON STEP:  100\n",
      "ACCURACY ON TEST DATA:  0.888\n",
      "\n",
      "\n",
      "ON STEP:  200\n",
      "ACCURACY ON TEST DATA:  0.919\n",
      "\n",
      "\n",
      "ON STEP:  300\n",
      "ACCURACY ON TEST DATA:  0.944\n",
      "\n",
      "\n",
      "ON STEP:  400\n",
      "ACCURACY ON TEST DATA:  0.956\n",
      "\n",
      "\n",
      "ON STEP:  500\n",
      "ACCURACY ON TEST DATA:  0.953\n",
      "\n",
      "\n",
      "ON STEP:  600\n",
      "ACCURACY ON TEST DATA:  0.977\n",
      "\n",
      "\n",
      "ON STEP:  700\n",
      "ACCURACY ON TEST DATA:  0.964\n",
      "\n",
      "\n",
      "ON STEP:  800\n",
      "ACCURACY ON TEST DATA:  0.973\n",
      "\n",
      "\n",
      "ON STEP:  900\n",
      "ACCURACY ON TEST DATA:  0.978\n",
      "\n",
      "\n",
      "ON STEP:  1000\n",
      "ACCURACY ON TEST DATA:  0.966\n",
      "\n",
      "\n",
      "ON STEP:  1100\n",
      "ACCURACY ON TEST DATA:  0.973\n",
      "\n",
      "\n",
      "ON STEP:  1200\n",
      "ACCURACY ON TEST DATA:  0.968\n",
      "\n",
      "\n",
      "ON STEP:  1300\n",
      "ACCURACY ON TEST DATA:  0.967\n",
      "\n",
      "\n",
      "ON STEP:  1400\n",
      "ACCURACY ON TEST DATA:  0.981\n",
      "\n",
      "\n",
      "ON STEP:  1500\n",
      "ACCURACY ON TEST DATA:  0.974\n",
      "\n",
      "\n",
      "ON STEP:  1600\n",
      "ACCURACY ON TEST DATA:  0.983\n",
      "\n",
      "\n",
      "ON STEP:  1700\n",
      "ACCURACY ON TEST DATA:  0.975\n",
      "\n",
      "\n",
      "ON STEP:  1800\n",
      "ACCURACY ON TEST DATA:  0.982\n",
      "\n",
      "\n",
      "ON STEP:  1900\n",
      "ACCURACY ON TEST DATA:  0.98\n",
      "\n",
      "\n",
      "ON STEP:  2000\n",
      "ACCURACY ON TEST DATA:  0.98\n",
      "\n",
      "\n",
      "ON STEP:  2100\n",
      "ACCURACY ON TEST DATA:  0.985\n",
      "\n",
      "\n",
      "ON STEP:  2200\n",
      "ACCURACY ON TEST DATA:  0.984\n",
      "\n",
      "\n",
      "ON STEP:  2300\n",
      "ACCURACY ON TEST DATA:  0.986\n",
      "\n",
      "\n",
      "ON STEP:  2400\n",
      "ACCURACY ON TEST DATA:  0.989\n",
      "\n",
      "\n",
      "ON STEP:  2500\n",
      "ACCURACY ON TEST DATA:  0.987\n",
      "\n",
      "\n",
      "ON STEP:  2600\n",
      "ACCURACY ON TEST DATA:  0.984\n",
      "\n",
      "\n",
      "ON STEP:  2700\n",
      "ACCURACY ON TEST DATA:  0.984\n",
      "\n",
      "\n",
      "ON STEP:  2800\n",
      "ACCURACY ON TEST DATA:  0.991\n",
      "\n",
      "\n",
      "ON STEP:  2900\n",
      "ACCURACY ON TEST DATA:  0.989\n",
      "\n",
      "\n",
      "ON STEP:  3000\n",
      "ACCURACY ON TEST DATA:  0.986\n",
      "\n",
      "\n",
      "ON STEP:  3100\n",
      "ACCURACY ON TEST DATA:  0.984\n",
      "\n",
      "\n",
      "ON STEP:  3200\n",
      "ACCURACY ON TEST DATA:  0.988\n",
      "\n",
      "\n",
      "ON STEP:  3300\n",
      "ACCURACY ON TEST DATA:  0.994\n",
      "\n",
      "\n",
      "ON STEP:  3400\n",
      "ACCURACY ON TEST DATA:  0.984\n",
      "\n",
      "\n",
      "ON STEP:  3500\n",
      "ACCURACY ON TEST DATA:  0.986\n",
      "\n",
      "\n",
      "ON STEP:  3600\n",
      "ACCURACY ON TEST DATA:  0.99\n",
      "\n",
      "\n",
      "ON STEP:  3700\n",
      "ACCURACY ON TEST DATA:  0.996\n",
      "\n",
      "\n",
      "ON STEP:  3800\n",
      "ACCURACY ON TEST DATA:  0.986\n",
      "\n",
      "\n",
      "ON STEP:  3900\n",
      "ACCURACY ON TEST DATA:  0.988\n",
      "\n",
      "\n",
      "ON STEP:  4000\n",
      "ACCURACY ON TEST DATA:  0.992\n",
      "\n",
      "\n",
      "ON STEP:  4100\n",
      "ACCURACY ON TEST DATA:  0.99\n",
      "\n",
      "\n",
      "ON STEP:  4200\n",
      "ACCURACY ON TEST DATA:  0.993\n",
      "\n",
      "\n",
      "ON STEP:  4300\n",
      "ACCURACY ON TEST DATA:  0.981\n",
      "\n",
      "\n",
      "ON STEP:  4400\n",
      "ACCURACY ON TEST DATA:  0.988\n",
      "\n",
      "\n",
      "ON STEP:  4500\n",
      "ACCURACY ON TEST DATA:  0.986\n",
      "\n",
      "\n",
      "ON STEP:  4600\n",
      "ACCURACY ON TEST DATA:  0.982\n",
      "\n",
      "\n",
      "ON STEP:  4700\n",
      "ACCURACY ON TEST DATA:  0.991\n",
      "\n",
      "\n",
      "ON STEP:  4800\n",
      "ACCURACY ON TEST DATA:  0.985\n",
      "\n",
      "\n",
      "ON STEP:  4900\n",
      "ACCURACY ON TEST DATA:  0.993\n",
      "\n",
      "\n"
     ]
    }
   ],
   "source": [
    "with tf.Session() as sess:\n",
    "    sess.run(init)\n",
    "    for i in range(NUM_TRAINING_STEPS):\n",
    "        batch_array = np.random.randint(x_train.shape[0], size=(BATCH_SIZE))\n",
    "        x_train_batch=x_train.take(batch_array)\n",
    "        y_train_batch=y_train.take(batch_array)\n",
    "        sess.run(train, feed_dict={x:x_train_batch, y_true: y_train_batch, hold_prob:HOLD_PROB_TRAINING})\n",
    "        if i%100 == 0:\n",
    "            print(\"ON STEP: \", end=\" \")\n",
    "            print(i)\n",
    "            test_batch_array = np.random.randint(x_test.shape[0], size=(TEST_BATCH_SIZE))\n",
    "            x_test_batch=x_test.take(test_batch_array)\n",
    "            y_test_batch=y_test.take(test_batch_array)\n",
    "            print(\"ACCURACY ON TEST DATA: \", end=\" \")\n",
    "            print(sess.run(acc,feed_dict={x:x_test_batch, y_true: y_test_batch, hold_prob:1}))\n",
    "            print(\"\\n\")"
   ]
  },
  {
   "cell_type": "code",
   "execution_count": null,
   "metadata": {
    "collapsed": true
   },
   "outputs": [],
   "source": []
  },
  {
   "cell_type": "code",
   "execution_count": null,
   "metadata": {
    "collapsed": true
   },
   "outputs": [],
   "source": []
  }
 ],
 "metadata": {
  "kernelspec": {
   "display_name": "Python 3",
   "language": "python",
   "name": "python3"
  },
  "language_info": {
   "codemirror_mode": {
    "name": "ipython",
    "version": 3
   },
   "file_extension": ".py",
   "mimetype": "text/x-python",
   "name": "python",
   "nbconvert_exporter": "python",
   "pygments_lexer": "ipython3",
   "version": "3.5.4"
  }
 },
 "nbformat": 4,
 "nbformat_minor": 2
}
